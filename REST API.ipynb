{
 "cells": [
  {
   "cell_type": "code",
   "execution_count": 1,
   "metadata": {
    "ExecuteTime": {
     "end_time": "2019-11-07T13:46:42.254625Z",
     "start_time": "2019-11-07T13:46:41.149562Z"
    }
   },
   "outputs": [],
   "source": [
    "from flask import Flask, request\n",
    "import urllib\n",
    "from bs4 import BeautifulSoup\n",
    "import json"
   ]
  },
  {
   "cell_type": "code",
   "execution_count": 7,
   "metadata": {
    "ExecuteTime": {
     "end_time": "2019-11-07T13:50:01.309010Z",
     "start_time": "2019-11-07T13:50:01.287009Z"
    }
   },
   "outputs": [],
   "source": [
    "app = Flask(__name__)\n",
    "\n",
    "@app.route('/')\n",
    "def index():\n",
    "    return 'www.bestfightodds.com API'\n",
    "        \n",
    "def connect():\n",
    "    '''\n",
    "    Pulls page from url and converts to beautifulsoup object, to then be used by other funcs.\n",
    "    '''\n",
    "    user_agent = 'Mozilla/5.0 (Windows; U; Windows NT 5.1; en-US; rv:1.9.0.7) Gecko/2009021910 Firefox/3.0.7'\n",
    "    headers={'User-Agent':user_agent,} \n",
    "\n",
    "    url = 'https://www.bestfightodds.com/'\n",
    "    request=urllib.request.Request(url,None,headers)\n",
    "    response = urllib.request.urlopen(request)\n",
    "    html = response.read()\n",
    "    soup = BeautifulSoup(html, 'html.parser')\n",
    "    \n",
    "    return soup\n",
    "        \n",
    "@app.route('/event_list')\n",
    "def get_event_list():\n",
    "    '''\n",
    "    Parses list of events and their dates. Returns json object.\n",
    "    '''\n",
    "    soup = connect()\n",
    "    \n",
    "    event_list = [a_href.text for a_href in soup.find_all('a', href=True) if a_href['href'].startswith('/events')]\n",
    "    event_dates = [span.text for span in soup.find_all('span', {'class': 'table-header-date'})]\n",
    "    json_events = json.dumps({k:v for k,v in zip(event_list, event_dates)})\n",
    "\n",
    "    return json_events\n",
    "\n",
    "@app.route('/odds_makers_list')\n",
    "def get_bettor_list():\n",
    "    '''\n",
    "    Parses list of bettors. Returns json object.\n",
    "    '''\n",
    "    soup = connect()\n",
    "    \n",
    "    odds_maker_list = sorted(list(set([a_href.text for a_href in soup.find_all('a', href=True) if a_href['href'].startswith('/out/')])))\n",
    "    json_odds_makers = json.dumps(odds_maker_list)\n",
    "    \n",
    "    return json_odds_makers\n",
    "\n",
    "def get_bettor_list_helper(soup):\n",
    "    odds_maker_list = sorted(list(set([a_href.text for a_href in soup.find_all('a', href=True) if a_href['href'].startswith('/out/')])))\n",
    "    return odds_maker_list\n",
    "    \n",
    "@app.route('/fighter_list/<id_>')\n",
    "def get_fighter_list(id_):\n",
    "    '''\n",
    "    Parses list of fighters for a particular event id. Event id is an int ordering by date occuring.\n",
    "    Returns the event name and list of fighters as json object.\n",
    "    If the event id is not an int, less than 0, or greater than the # of events, it's invalid.\n",
    "    '''\n",
    "    soup = connect()\n",
    "    \n",
    "    tbls_fighters = soup.find_all('div', {'class': 'table-inner-wrapper'})\n",
    "\n",
    "    ## event id validity check ##\n",
    "    if id_.isdigit():\n",
    "        id_ = int(id_)\n",
    "        if (id_ >= 0) and (id_ < len(tbls_fighters)):\n",
    "            tbl = tbls_fighters[id_]\n",
    "        else:\n",
    "            return 'Invalid event number'\n",
    "    else:\n",
    "        return 'Invalid event number'\n",
    "    \n",
    "    ## fighter list ##\n",
    "    fighter_list = []\n",
    "    for span in tbl.find_all('span', {'class':'tw'}):\n",
    "        if span.text[0].isalpha() and span.text != 'n/a':\n",
    "            fighter_list.append(span.text)\n",
    "    \n",
    "    ## event title ##\n",
    "    tbls_events = soup.find_all('div', {'class': 'table-header'})\n",
    "    tbl = tbls_events[id_]\n",
    "    event_title = [a_href.text for a_href in tbl.find_all('a', href=True) if a_href['href'].startswith('/events/')][0]\n",
    "\n",
    "    json_fighter_list = json.dumps({event_title: fighter_list})\n",
    "    \n",
    "    return json_fighter_list\n",
    "\n",
    "@app.route('/odds/<fighter>')\n",
    "def get_fighter_odds(fighter):\n",
    "    '''\n",
    "    Pulls odds for inputted fighter for first event they're present on sorted by date.\n",
    "    Combine name with spaces (i.e. jon jones as jon+jones)\n",
    "    '''\n",
    "    odds_dic = {}\n",
    "    opponent = ''\n",
    "    fighter = ' '.join(fighter.split('+')).lower()\n",
    "    \n",
    "    if fighter.isdigit():\n",
    "        return 'Invalid fighter. Separate first and last name by \"+\".'\n",
    "\n",
    "    soup = connect()\n",
    "    \n",
    "    spans_fighter = [x for x in soup.find_all('span', {'class':'tw'}) if x.text.lower() == fighter.lower()]\n",
    "    if not spans_fighter:\n",
    "        return 'Fighter not found.'\n",
    "\n",
    "    td = spans_fighter[1] ## always take second one ##\n",
    "\n",
    "    for bettor in get_bettor_list_helper(soup):\n",
    "        td = td.find_next('td')\n",
    "        odds_dic[bettor] = td.text.replace('▲', '').replace('▼', '')\n",
    "\n",
    "    opponent = td.find_next('span', {'class':'tw'}).find_next('span', {'class':'tw'}).text\n",
    "\n",
    "    if not odds_dic:\n",
    "        return 'Fighter not found. Separate first and last name by \"+\".'\n",
    "\n",
    "    fighter_odds_dic = {'odds': odds_dic,\n",
    "                        'opponent': opponent}\n",
    "\n",
    "    json_fighter_odds = json.dumps(fighter_odds_dic)\n",
    "\n",
    "    return json_fighter_odds"
   ]
  },
  {
   "cell_type": "code",
   "execution_count": 8,
   "metadata": {
    "ExecuteTime": {
     "end_time": "2019-11-07T13:50:43.649432Z",
     "start_time": "2019-11-07T13:50:01.764036Z"
    }
   },
   "outputs": [
    {
     "name": "stdout",
     "output_type": "stream",
     "text": [
      " * Serving Flask app \"__main__\" (lazy loading)\n",
      " * Environment: production\n",
      "   WARNING: This is a development server. Do not use it in a production deployment.\n",
      "   Use a production WSGI server instead.\n",
      " * Debug mode: off\n"
     ]
    },
    {
     "name": "stderr",
     "output_type": "stream",
     "text": [
      " * Running on http://127.0.0.1:5000/ (Press CTRL+C to quit)\n",
      "127.0.0.1 - - [07/Nov/2019 08:50:04] \"\u001b[37mGET / HTTP/1.1\u001b[0m\" 200 -\n",
      "127.0.0.1 - - [07/Nov/2019 08:50:04] \"\u001b[33mGET /favicon.ico HTTP/1.1\u001b[0m\" 404 -\n",
      "127.0.0.1 - - [07/Nov/2019 08:50:12] \"\u001b[37mGET /odds/kamaru+usman HTTP/1.1\u001b[0m\" 200 -\n",
      "127.0.0.1 - - [07/Nov/2019 08:50:17] \"\u001b[37mGET /odds/colby+covington HTTP/1.1\u001b[0m\" 200 -\n",
      "127.0.0.1 - - [07/Nov/2019 08:50:25] \"\u001b[37mGET /odds/amanda+nunes HTTP/1.1\u001b[0m\" 200 -\n",
      "127.0.0.1 - - [07/Nov/2019 08:50:34] \"\u001b[37mGET /odds/tito+ortiz HTTP/1.1\u001b[0m\" 200 -\n"
     ]
    }
   ],
   "source": [
    "app.run(port=5000)"
   ]
  },
  {
   "cell_type": "code",
   "execution_count": 3,
   "metadata": {
    "ExecuteTime": {
     "end_time": "2019-11-07T13:46:47.509925Z",
     "start_time": "2019-11-07T13:46:45.362803Z"
    }
   },
   "outputs": [],
   "source": [
    "soup = connect()"
   ]
  },
  {
   "cell_type": "code",
   "execution_count": 5,
   "metadata": {
    "ExecuteTime": {
     "end_time": "2019-11-07T13:46:59.314601Z",
     "start_time": "2019-11-07T13:46:59.094588Z"
    }
   },
   "outputs": [
    {
     "data": {
      "text/plain": [
       "'{\"odds\": {\"5Dimes\": \"-290\", \"Bet365\": \"\", \"BetDSI\": \"-310\", \"BetOnline\": \"-283\", \"BookMaker\": \"-303\", \"Bovada\": \"-300\", \"Intertops\": \"-320\", \"Pinnacle\": \"-303\", \"SportBet\": \"-286\", \"SportsInt.\": \"-365\", \"Sportsbook\": \"-275\", \"TheGreek\": \"-320\", \"William\\\\u00a0H.\": \"\"}, \"opponent\": \"Germaine De Randamie\"}'"
      ]
     },
     "execution_count": 5,
     "metadata": {},
     "output_type": "execute_result"
    }
   ],
   "source": [
    "fighter = 'amanda nunes'\n",
    "odds_dic = {}\n",
    "opponent = ''\n",
    "\n",
    "spans_fighter = [x for x in soup.find_all('span', {'class':'tw'}) if x.text.lower() == fighter.lower()]\n",
    "if not spans_fighter:\n",
    "    print('Fighter not found.')\n",
    "\n",
    "td = spans_fighter[1] ## always take second one ##\n",
    "    \n",
    "for bettor in get_bettor_list_helper(soup):\n",
    "    td = td.find_next('td')\n",
    "    odds_dic[bettor] = td.text.replace('▲', '').replace('▼', '')\n",
    "\n",
    "opponent = td.find_next('span', {'class':'tw'}).find_next('span', {'class':'tw'}).text\n",
    "\n",
    "# if not odds_dic:\n",
    "#     return 'Fighter not found. Separate first and last name by \"+\".'\n",
    "\n",
    "fighter_odds_dic = {'odds': odds_dic,\n",
    "                    'opponent': opponent}\n",
    "\n",
    "json_fighter_odds = json.dumps(fighter_odds_dic)\n",
    "\n",
    "json_fighter_odds"
   ]
  },
  {
   "cell_type": "code",
   "execution_count": null,
   "metadata": {},
   "outputs": [],
   "source": []
  }
 ],
 "metadata": {
  "kernelspec": {
   "display_name": "Python 3",
   "language": "python",
   "name": "python3"
  },
  "language_info": {
   "codemirror_mode": {
    "name": "ipython",
    "version": 3
   },
   "file_extension": ".py",
   "mimetype": "text/x-python",
   "name": "python",
   "nbconvert_exporter": "python",
   "pygments_lexer": "ipython3",
   "version": "3.7.3"
  }
 },
 "nbformat": 4,
 "nbformat_minor": 2
}
